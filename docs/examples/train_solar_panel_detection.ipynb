{
  "cells": [
    {
      "cell_type": "markdown",
      "metadata": {
        "id": "JDB3tVp4AQhb"
      },
      "source": [
        "# Train a Model for Detecting Solar Panels\n",
        "\n",
        "[![image](https://colab.research.google.com/assets/colab-badge.svg)](https://colab.research.google.com/github/opengeos/geoai/blob/main/docs/examples/train_solar_panel_detection.ipynb)\n",
        "\n",
        "## Install package\n",
        "To use the `geoai-py` package, ensure it is installed in your environment. Uncomment the command below if needed."
      ]
    },
    {
      "cell_type": "code",
      "execution_count": null,
      "metadata": {
        "id": "a2ahr9VmAQhb"
      },
      "outputs": [],
      "source": [
        "%pip install geoai-py"
      ]
    },
    {
      "cell_type": "markdown",
      "metadata": {
        "id": "w81jZfYcAQhc"
      },
      "source": [
        "## Import libraries"
      ]
    },
    {
      "cell_type": "code",
      "execution_count": null,
      "metadata": {
        "id": "32k4uQf8AQhc"
      },
      "outputs": [],
      "source": [
        "import geoai"
      ]
    },
    {
      "cell_type": "markdown",
      "metadata": {
        "id": "P55762GZAQhc"
      },
      "source": [
        "## Download sample data"
      ]
    },
    {
      "cell_type": "code",
      "execution_count": null,
      "metadata": {
        "id": "zLjk80EMAQhc"
      },
      "outputs": [],
      "source": [
        "train_raster_url = \"https://huggingface.co/datasets/giswqs/geospatial/resolve/main/solar_panels_davis_ca.tif\"\n",
        "train_vector_url = \"https://huggingface.co/datasets/giswqs/geospatial/resolve/main/solar_panels_davis_ca.geojson\"\n",
        "test_raster_url = \"https://huggingface.co/datasets/giswqs/geospatial/resolve/main/solar_panels_test_davis_ca.tif\""
      ]
    },
    {
      "cell_type": "code",
      "execution_count": null,
      "metadata": {
        "id": "E-kQ_V-_AQhc"
      },
      "outputs": [],
      "source": [
        "train_raster_path = geoai.download_file(train_raster_url)\n",
        "train_vector_path = geoai.download_file(train_vector_url)\n",
        "test_raster_path = geoai.download_file(test_raster_url)"
      ]
    },
    {
      "cell_type": "markdown",
      "metadata": {
        "id": "JZ8hLPOnAQhc"
      },
      "source": [
        "## Visualize sample data"
      ]
    },
    {
      "cell_type": "code",
      "source": [
        "geoai.print_raster_info(train_raster_path, show_preview=False)"
      ],
      "metadata": {
        "id": "9q9ON2tpBlnd",
        "outputId": "d2e6d793-a806-4643-9670-7740b7932bb6",
        "colab": {
          "base_uri": "https://localhost:8080/"
        }
      },
      "execution_count": 8,
      "outputs": [
        {
          "output_type": "stream",
          "name": "stdout",
          "text": [
            "===== RASTER INFORMATION: solar_panels_davis_ca.tif =====\n",
            "Driver: GTiff\n",
            "Dimensions: 6711 x 3242 pixels\n",
            "Number of bands: 3\n",
            "Data type: uint8\n",
            "Coordinate Reference System: EPSG:3857\n",
            "Georeferenced Bounds: BoundingBox(left=-13556075.706688922, bottom=4657729.5446374295, right=-13555574.76898035, top=4657971.533802349)\n",
            "Pixel Resolution: 0.07464427187774597, 0.07464193859333511\n",
            "NoData Value: None\n",
            "\n",
            "----- Band Statistics -----\n",
            "Band 1:\n",
            "  Min: 0.00\n",
            "  Max: 255.00\n",
            "  Mean: 104.00\n",
            "  Std Dev: 64.62\n",
            "Band 2:\n",
            "  Min: 0.00\n",
            "  Max: 255.00\n",
            "  Mean: 102.47\n",
            "  Std Dev: 58.59\n",
            "Band 3:\n",
            "  Min: 0.00\n",
            "  Max: 255.00\n",
            "  Mean: 112.06\n",
            "  Std Dev: 46.38\n"
          ]
        }
      ]
    },
    {
      "cell_type": "code",
      "source": [
        "geoai.view_raster(train_masks_url, )"
      ],
      "metadata": {
        "id": "mnHx_O2pB5kZ"
      },
      "execution_count": null,
      "outputs": []
    },
    {
      "cell_type": "code",
      "execution_count": null,
      "metadata": {
        "id": "YAi7ouWGAQhc"
      },
      "outputs": [],
      "source": [
        "geoai.view_vector_interactive(train_vector_path, tiles=train_raster_url)"
      ]
    },
    {
      "cell_type": "code",
      "execution_count": null,
      "metadata": {
        "id": "fKwYgQp7AQhc"
      },
      "outputs": [],
      "source": [
        "geoai.view_raster(test_raster_url)"
      ]
    },
    {
      "cell_type": "markdown",
      "metadata": {
        "id": "1mGTakDQAQhc"
      },
      "source": [
        "## Create training data"
      ]
    },
    {
      "cell_type": "code",
      "execution_count": 9,
      "metadata": {
        "id": "e9N-krSHAQhc",
        "outputId": "5ab68dba-1d5e-4793-c576-a369edb46edf",
        "colab": {
          "base_uri": "https://localhost:8080/"
        }
      },
      "outputs": [
        {
          "output_type": "stream",
          "name": "stdout",
          "text": [
            "\n",
            "Raster info for solar_panels_davis_ca.tif:\n",
            "  CRS: EPSG:3857\n",
            "  Dimensions: 6711 x 3242\n",
            "  Resolution: (0.07464427187774597, 0.07464193859333511)\n",
            "  Bands: 3\n",
            "  Bounds: BoundingBox(left=-13556075.706688922, bottom=4657729.5446374295, right=-13555574.76898035, top=4657971.533802349)\n",
            "Loaded 67 features from solar_panels_davis_ca.geojson\n",
            "Vector CRS: EPSG:4326\n",
            "Reprojecting features from EPSG:4326 to EPSG:3857\n",
            "WARNING: 'class' not found in vector data. Using default class ID 1.\n"
          ]
        },
        {
          "output_type": "stream",
          "name": "stderr",
          "text": [
            "Generated: 312, With features: 137: 100%|██████████| 312/312 [00:16<00:00, 19.40it/s]"
          ]
        },
        {
          "output_type": "stream",
          "name": "stdout",
          "text": [
            "\n",
            "------- Export Summary -------\n",
            "Total tiles exported: 312\n",
            "Tiles with features: 137 (43.9%)\n",
            "Average feature pixels per tile: 8422.7\n",
            "Output saved to: output\n",
            "\n",
            "------- Georeference Verification -------\n"
          ]
        },
        {
          "output_type": "stream",
          "name": "stderr",
          "text": [
            "\n"
          ]
        }
      ],
      "source": [
        "out_folder = \"output\"\n",
        "tiles = geoai.export_geotiff_tiles(\n",
        "    in_raster=train_raster_path,\n",
        "    out_folder=out_folder,\n",
        "    in_class_data=train_vector_path,\n",
        "    tile_size=512,\n",
        "    stride=256,\n",
        "    buffer_radius=0,\n",
        ")"
      ]
    },
    {
      "cell_type": "markdown",
      "metadata": {
        "id": "OXKtxDYPAQhc"
      },
      "source": [
        "## Train object detection model"
      ]
    },
    {
      "cell_type": "code",
      "execution_count": null,
      "metadata": {
        "id": "FvRkEusnAQhc",
        "outputId": "97e5c802-3195-4eb0-dfd5-0b3e41865790",
        "colab": {
          "base_uri": "https://localhost:8080/"
        }
      },
      "outputs": [
        {
          "metadata": {
            "tags": null
          },
          "name": "stdout",
          "output_type": "stream",
          "text": [
            "Using device: cuda\n",
            "Found 312 image files and 312 label files\n",
            "Training on 249 images, validating on 63 images\n",
            "Downloading: \"https://download.pytorch.org/models/maskrcnn_resnet50_fpn_coco-bf2d0c1e.pth\" to /root/.cache/torch/hub/checkpoints/maskrcnn_resnet50_fpn_coco-bf2d0c1e.pth\n"
          ]
        },
        {
          "metadata": {
            "tags": null
          },
          "name": "stderr",
          "output_type": "stream",
          "text": [
            "100%|██████████| 170M/170M [00:00<00:00, 182MB/s]\n"
          ]
        },
        {
          "output_type": "stream",
          "name": "stdout",
          "text": [
            "Epoch: 0, Batch: 0/63, Loss: 2.5700, Time: 4.52s\n",
            "Epoch: 0, Batch: 10/63, Loss: 0.4559, Time: 9.40s\n",
            "Epoch: 0, Batch: 20/63, Loss: 0.6814, Time: 9.64s\n",
            "Epoch: 0, Batch: 30/63, Loss: 0.1426, Time: 9.72s\n",
            "Epoch: 0, Batch: 40/63, Loss: 0.2866, Time: 9.78s\n",
            "Epoch: 0, Batch: 50/63, Loss: 0.3084, Time: 9.77s\n",
            "Epoch: 0, Batch: 60/63, Loss: 0.5514, Time: 9.68s\n",
            "Epoch 1/100: Train Loss: 0.5558, Val Loss: inf, Val IoU: 0.2508\n",
            "Saving best model with IoU: 0.2508\n",
            "Epoch: 1, Batch: 0/63, Loss: 1.0403, Time: 2.98s\n",
            "Epoch: 1, Batch: 10/63, Loss: 0.4080, Time: 10.15s\n",
            "Epoch: 1, Batch: 20/63, Loss: 0.2563, Time: 10.22s\n",
            "Epoch: 1, Batch: 30/63, Loss: 0.2540, Time: 10.35s\n",
            "Epoch: 1, Batch: 40/63, Loss: 0.1587, Time: 10.12s\n",
            "Epoch: 1, Batch: 50/63, Loss: 0.1623, Time: 10.01s\n",
            "Epoch: 1, Batch: 60/63, Loss: 0.1966, Time: 10.22s\n",
            "Epoch 2/100: Train Loss: 0.3388, Val Loss: inf, Val IoU: 0.3084\n",
            "Saving best model with IoU: 0.3084\n",
            "Epoch: 2, Batch: 0/63, Loss: 0.1435, Time: 1.91s\n",
            "Epoch: 2, Batch: 10/63, Loss: 0.3745, Time: 10.31s\n",
            "Epoch: 2, Batch: 20/63, Loss: 0.4469, Time: 10.20s\n",
            "Epoch: 2, Batch: 30/63, Loss: 0.3318, Time: 10.38s\n",
            "Epoch: 2, Batch: 40/63, Loss: 0.2844, Time: 10.05s\n",
            "Epoch: 2, Batch: 50/63, Loss: 0.2163, Time: 10.32s\n",
            "Epoch: 2, Batch: 60/63, Loss: 0.1121, Time: 10.11s\n",
            "Epoch 3/100: Train Loss: 0.2350, Val Loss: inf, Val IoU: 0.3808\n",
            "Saving best model with IoU: 0.3808\n",
            "Epoch: 3, Batch: 0/63, Loss: 0.3159, Time: 2.20s\n",
            "Epoch: 3, Batch: 10/63, Loss: 0.1669, Time: 10.23s\n",
            "Epoch: 3, Batch: 20/63, Loss: 0.1897, Time: 9.96s\n",
            "Epoch: 3, Batch: 30/63, Loss: 0.1203, Time: 10.19s\n",
            "Epoch: 3, Batch: 40/63, Loss: 0.2065, Time: 10.30s\n",
            "Epoch: 3, Batch: 50/63, Loss: 0.1762, Time: 10.36s\n",
            "Epoch: 3, Batch: 60/63, Loss: 0.2038, Time: 10.12s\n",
            "Epoch 4/100: Train Loss: 0.1615, Val Loss: inf, Val IoU: 0.5538\n",
            "Saving best model with IoU: 0.5538\n",
            "Epoch: 4, Batch: 0/63, Loss: 0.1682, Time: 2.52s\n",
            "Epoch: 4, Batch: 10/63, Loss: 0.2152, Time: 10.21s\n",
            "Epoch: 4, Batch: 20/63, Loss: 0.1049, Time: 10.19s\n",
            "Epoch: 4, Batch: 30/63, Loss: 0.2087, Time: 10.37s\n",
            "Epoch: 4, Batch: 40/63, Loss: 0.0046, Time: 10.24s\n",
            "Epoch: 4, Batch: 50/63, Loss: 0.1932, Time: 10.20s\n",
            "Epoch: 4, Batch: 60/63, Loss: 0.7092, Time: 10.20s\n",
            "Epoch 5/100: Train Loss: 0.1434, Val Loss: inf, Val IoU: 0.5944\n",
            "Saving best model with IoU: 0.5944\n",
            "Epoch: 5, Batch: 0/63, Loss: 0.1052, Time: 2.09s\n",
            "Epoch: 5, Batch: 10/63, Loss: 0.1443, Time: 10.26s\n",
            "Epoch: 5, Batch: 20/63, Loss: 0.0058, Time: 10.19s\n",
            "Epoch: 5, Batch: 30/63, Loss: 0.1536, Time: 10.10s\n",
            "Epoch: 5, Batch: 40/63, Loss: 0.0091, Time: 10.20s\n",
            "Epoch: 5, Batch: 50/63, Loss: 0.0003, Time: 10.36s\n",
            "Epoch: 5, Batch: 60/63, Loss: 0.1129, Time: 10.26s\n",
            "Epoch 6/100: Train Loss: 0.1178, Val Loss: inf, Val IoU: 0.6477\n",
            "Saving best model with IoU: 0.6477\n",
            "Epoch: 6, Batch: 0/63, Loss: 0.0867, Time: 2.22s\n",
            "Epoch: 6, Batch: 10/63, Loss: 0.1198, Time: 10.17s\n",
            "Epoch: 6, Batch: 20/63, Loss: 0.1504, Time: 10.16s\n",
            "Epoch: 6, Batch: 30/63, Loss: 0.0983, Time: 10.28s\n",
            "Epoch: 6, Batch: 40/63, Loss: 0.0853, Time: 10.16s\n",
            "Epoch: 6, Batch: 50/63, Loss: 0.1342, Time: 10.20s\n",
            "Epoch: 6, Batch: 60/63, Loss: 0.0703, Time: 10.31s\n",
            "Epoch 7/100: Train Loss: 0.1019, Val Loss: inf, Val IoU: 0.7491\n",
            "Saving best model with IoU: 0.7491\n",
            "Epoch: 7, Batch: 0/63, Loss: 0.1425, Time: 2.02s\n",
            "Epoch: 7, Batch: 10/63, Loss: 0.1152, Time: 10.10s\n",
            "Epoch: 7, Batch: 20/63, Loss: 0.1359, Time: 10.47s\n",
            "Epoch: 7, Batch: 30/63, Loss: 0.1056, Time: 10.17s\n",
            "Epoch: 7, Batch: 40/63, Loss: 0.0756, Time: 10.24s\n",
            "Epoch: 7, Batch: 50/63, Loss: 0.0837, Time: 10.24s\n",
            "Epoch: 7, Batch: 60/63, Loss: 0.0691, Time: 10.10s\n",
            "Epoch 8/100: Train Loss: 0.1012, Val Loss: inf, Val IoU: 0.7409\n",
            "Epoch: 8, Batch: 0/63, Loss: 0.0000, Time: 2.48s\n",
            "Epoch: 8, Batch: 10/63, Loss: 0.0727, Time: 10.26s\n",
            "Epoch: 8, Batch: 20/63, Loss: 0.0668, Time: 10.17s\n",
            "Epoch: 8, Batch: 30/63, Loss: 0.1250, Time: 10.15s\n",
            "Epoch: 8, Batch: 40/63, Loss: 0.0858, Time: 10.22s\n",
            "Epoch: 8, Batch: 50/63, Loss: 0.1411, Time: 10.49s\n",
            "Epoch: 8, Batch: 60/63, Loss: 0.1063, Time: 10.12s\n",
            "Epoch 9/100: Train Loss: 0.0873, Val Loss: inf, Val IoU: 0.6693\n",
            "Epoch: 9, Batch: 0/63, Loss: 0.0589, Time: 1.88s\n",
            "Epoch: 9, Batch: 10/63, Loss: 0.0002, Time: 10.43s\n",
            "Epoch: 9, Batch: 20/63, Loss: 0.0698, Time: 10.07s\n",
            "Epoch: 9, Batch: 30/63, Loss: 0.0722, Time: 10.21s\n",
            "Epoch: 9, Batch: 40/63, Loss: 0.0799, Time: 10.42s\n",
            "Epoch: 9, Batch: 50/63, Loss: 0.0694, Time: 10.32s\n",
            "Epoch: 9, Batch: 60/63, Loss: 0.0774, Time: 9.99s\n",
            "Epoch 10/100: Train Loss: 0.0936, Val Loss: inf, Val IoU: 0.7595\n",
            "Saving best model with IoU: 0.7595\n",
            "Epoch: 10, Batch: 0/63, Loss: 0.1587, Time: 2.10s\n",
            "Epoch: 10, Batch: 10/63, Loss: 0.0788, Time: 10.17s\n",
            "Epoch: 10, Batch: 20/63, Loss: 0.0599, Time: 10.12s\n",
            "Epoch: 10, Batch: 30/63, Loss: 0.0846, Time: 10.21s\n",
            "Epoch: 10, Batch: 40/63, Loss: 0.1145, Time: 10.35s\n",
            "Epoch: 10, Batch: 50/63, Loss: 0.0997, Time: 10.38s\n",
            "Epoch: 10, Batch: 60/63, Loss: 0.0759, Time: 10.14s\n",
            "Epoch 11/100: Train Loss: 0.0839, Val Loss: inf, Val IoU: 0.7536\n",
            "Epoch: 11, Batch: 0/63, Loss: 0.0926, Time: 2.73s\n",
            "Epoch: 11, Batch: 10/63, Loss: 0.0627, Time: 10.03s\n",
            "Epoch: 11, Batch: 20/63, Loss: 0.1142, Time: 10.25s\n",
            "Epoch: 11, Batch: 30/63, Loss: 0.0471, Time: 10.32s\n",
            "Epoch: 11, Batch: 40/63, Loss: 0.0637, Time: 10.14s\n",
            "Epoch: 11, Batch: 50/63, Loss: 0.0619, Time: 10.32s\n",
            "Epoch: 11, Batch: 60/63, Loss: 0.0808, Time: 10.35s\n",
            "Epoch 12/100: Train Loss: 0.0791, Val Loss: inf, Val IoU: 0.7702\n",
            "Saving best model with IoU: 0.7702\n",
            "Epoch: 12, Batch: 0/63, Loss: 0.0883, Time: 2.08s\n",
            "Epoch: 12, Batch: 10/63, Loss: 0.0000, Time: 10.27s\n",
            "Epoch: 12, Batch: 20/63, Loss: 0.0002, Time: 10.04s\n",
            "Epoch: 12, Batch: 30/63, Loss: 0.1136, Time: 10.39s\n",
            "Epoch: 12, Batch: 40/63, Loss: 0.0848, Time: 10.11s\n",
            "Epoch: 12, Batch: 50/63, Loss: 0.1176, Time: 10.31s\n",
            "Epoch: 12, Batch: 60/63, Loss: 0.0718, Time: 10.10s\n",
            "Epoch 13/100: Train Loss: 0.0758, Val Loss: inf, Val IoU: 0.7729\n",
            "Saving best model with IoU: 0.7729\n",
            "Epoch: 13, Batch: 0/63, Loss: 0.1003, Time: 2.10s\n",
            "Epoch: 13, Batch: 10/63, Loss: 0.0571, Time: 10.35s\n",
            "Epoch: 13, Batch: 20/63, Loss: 0.0702, Time: 10.39s\n",
            "Epoch: 13, Batch: 30/63, Loss: 0.0950, Time: 10.35s\n",
            "Epoch: 13, Batch: 40/63, Loss: 0.1312, Time: 9.99s\n",
            "Epoch: 13, Batch: 50/63, Loss: 0.1171, Time: 10.18s\n",
            "Epoch: 13, Batch: 60/63, Loss: 0.0001, Time: 10.17s\n",
            "Epoch 14/100: Train Loss: 0.0760, Val Loss: inf, Val IoU: 0.7704\n",
            "Epoch: 14, Batch: 0/63, Loss: 0.0000, Time: 2.22s\n",
            "Epoch: 14, Batch: 10/63, Loss: 0.1139, Time: 10.28s\n",
            "Epoch: 14, Batch: 20/63, Loss: 0.0924, Time: 10.07s\n",
            "Epoch: 14, Batch: 30/63, Loss: 0.0830, Time: 10.07s\n",
            "Epoch: 14, Batch: 40/63, Loss: 0.0699, Time: 10.52s\n",
            "Epoch: 14, Batch: 50/63, Loss: 0.0589, Time: 10.33s\n",
            "Epoch: 14, Batch: 60/63, Loss: 0.0753, Time: 10.24s\n",
            "Epoch 15/100: Train Loss: 0.0738, Val Loss: inf, Val IoU: 0.7800\n",
            "Saving best model with IoU: 0.7800\n",
            "Epoch: 15, Batch: 0/63, Loss: 0.0000, Time: 2.08s\n",
            "Epoch: 15, Batch: 10/63, Loss: 0.0011, Time: 10.22s\n",
            "Epoch: 15, Batch: 20/63, Loss: 0.0523, Time: 10.13s\n",
            "Epoch: 15, Batch: 30/63, Loss: 0.0949, Time: 10.32s\n",
            "Epoch: 15, Batch: 40/63, Loss: 0.0689, Time: 10.34s\n",
            "Epoch: 15, Batch: 50/63, Loss: 0.0765, Time: 10.37s\n",
            "Epoch: 15, Batch: 60/63, Loss: 0.0966, Time: 10.10s\n",
            "Epoch 16/100: Train Loss: 0.0727, Val Loss: inf, Val IoU: 0.7663\n",
            "Epoch: 16, Batch: 0/63, Loss: 0.0879, Time: 2.17s\n",
            "Epoch: 16, Batch: 10/63, Loss: 0.0683, Time: 10.23s\n",
            "Epoch: 16, Batch: 20/63, Loss: 0.0629, Time: 10.22s\n",
            "Epoch: 16, Batch: 30/63, Loss: 0.1093, Time: 10.16s\n",
            "Epoch: 16, Batch: 40/63, Loss: 0.0692, Time: 10.23s\n",
            "Epoch: 16, Batch: 50/63, Loss: 0.0814, Time: 10.30s\n",
            "Epoch: 16, Batch: 60/63, Loss: 0.0543, Time: 10.16s\n",
            "Epoch 17/100: Train Loss: 0.0715, Val Loss: inf, Val IoU: 0.7853\n",
            "Saving best model with IoU: 0.7853\n",
            "Epoch: 17, Batch: 0/63, Loss: 0.0602, Time: 2.10s\n",
            "Epoch: 17, Batch: 10/63, Loss: 0.0001, Time: 10.27s\n",
            "Epoch: 17, Batch: 20/63, Loss: 0.0586, Time: 10.34s\n",
            "Epoch: 17, Batch: 30/63, Loss: 0.0754, Time: 10.07s\n",
            "Epoch: 17, Batch: 40/63, Loss: 0.0879, Time: 10.38s\n",
            "Epoch: 17, Batch: 50/63, Loss: 0.0863, Time: 10.24s\n",
            "Epoch: 17, Batch: 60/63, Loss: 0.0867, Time: 10.21s\n",
            "Epoch 18/100: Train Loss: 0.0690, Val Loss: inf, Val IoU: 0.8278\n",
            "Saving best model with IoU: 0.8278\n",
            "Epoch: 18, Batch: 0/63, Loss: 0.0648, Time: 2.20s\n",
            "Epoch: 18, Batch: 10/63, Loss: 0.0548, Time: 10.19s\n",
            "Epoch: 18, Batch: 20/63, Loss: 0.0577, Time: 9.99s\n",
            "Epoch: 18, Batch: 30/63, Loss: 0.0932, Time: 10.39s\n",
            "Epoch: 18, Batch: 40/63, Loss: 0.0667, Time: 10.32s\n",
            "Epoch: 18, Batch: 50/63, Loss: 0.0000, Time: 10.31s\n",
            "Epoch: 18, Batch: 60/63, Loss: 0.0940, Time: 10.22s\n",
            "Epoch 19/100: Train Loss: 0.0688, Val Loss: inf, Val IoU: 0.7880\n",
            "Epoch: 19, Batch: 0/63, Loss: 0.0882, Time: 2.00s\n",
            "Epoch: 19, Batch: 10/63, Loss: 0.0642, Time: 10.17s\n",
            "Epoch: 19, Batch: 20/63, Loss: 0.0638, Time: 10.10s\n",
            "Epoch: 19, Batch: 30/63, Loss: 0.0744, Time: 10.14s\n",
            "Epoch: 19, Batch: 40/63, Loss: 0.0761, Time: 10.21s\n",
            "Epoch: 19, Batch: 50/63, Loss: 0.0891, Time: 10.44s\n",
            "Epoch: 19, Batch: 60/63, Loss: 0.0002, Time: 10.32s\n",
            "Epoch 20/100: Train Loss: 0.0665, Val Loss: inf, Val IoU: 0.7792\n",
            "Epoch: 20, Batch: 0/63, Loss: 0.1154, Time: 2.13s\n",
            "Epoch: 20, Batch: 10/63, Loss: 0.0721, Time: 10.22s\n",
            "Epoch: 20, Batch: 20/63, Loss: 0.0643, Time: 10.26s\n",
            "Epoch: 20, Batch: 30/63, Loss: 0.0914, Time: 10.25s\n",
            "Epoch: 20, Batch: 40/63, Loss: 0.0748, Time: 10.06s\n",
            "Epoch: 20, Batch: 50/63, Loss: 0.0601, Time: 10.40s\n",
            "Epoch: 20, Batch: 60/63, Loss: 0.0584, Time: 10.11s\n",
            "Epoch 21/100: Train Loss: 0.0655, Val Loss: inf, Val IoU: 0.8261\n",
            "Epoch: 21, Batch: 0/63, Loss: 0.1077, Time: 2.26s\n",
            "Epoch: 21, Batch: 10/63, Loss: 0.0945, Time: 10.44s\n",
            "Epoch: 21, Batch: 20/63, Loss: 0.0780, Time: 10.31s\n",
            "Epoch: 21, Batch: 30/63, Loss: 0.0349, Time: 10.12s\n",
            "Epoch: 21, Batch: 40/63, Loss: 0.0369, Time: 10.29s\n",
            "Epoch: 21, Batch: 50/63, Loss: 0.0564, Time: 10.04s\n",
            "Epoch: 21, Batch: 60/63, Loss: 0.0854, Time: 10.09s\n",
            "Epoch 22/100: Train Loss: 0.0671, Val Loss: inf, Val IoU: 0.7877\n",
            "Epoch: 22, Batch: 0/63, Loss: 0.0822, Time: 2.11s\n",
            "Epoch: 22, Batch: 10/63, Loss: 0.0694, Time: 10.39s\n",
            "Epoch: 22, Batch: 20/63, Loss: 0.0507, Time: 10.06s\n",
            "Epoch: 22, Batch: 30/63, Loss: 0.0923, Time: 10.11s\n",
            "Epoch: 22, Batch: 40/63, Loss: 0.0892, Time: 10.22s\n",
            "Epoch: 22, Batch: 50/63, Loss: 0.0573, Time: 10.16s\n",
            "Epoch: 22, Batch: 60/63, Loss: 0.0572, Time: 10.30s\n",
            "Epoch 23/100: Train Loss: 0.0652, Val Loss: inf, Val IoU: 0.8215\n",
            "Epoch: 23, Batch: 0/63, Loss: 0.0430, Time: 2.10s\n",
            "Epoch: 23, Batch: 10/63, Loss: 0.0747, Time: 10.16s\n",
            "Epoch: 23, Batch: 20/63, Loss: 0.0679, Time: 10.33s\n",
            "Epoch: 23, Batch: 30/63, Loss: 0.0961, Time: 10.27s\n",
            "Epoch: 23, Batch: 40/63, Loss: 0.0725, Time: 10.18s\n",
            "Epoch: 23, Batch: 50/63, Loss: 0.0784, Time: 10.31s\n",
            "Epoch: 23, Batch: 60/63, Loss: 0.0584, Time: 10.14s\n",
            "Epoch 24/100: Train Loss: 0.0663, Val Loss: inf, Val IoU: 0.8239\n",
            "Epoch: 24, Batch: 0/63, Loss: 0.0578, Time: 2.76s\n",
            "Epoch: 24, Batch: 10/63, Loss: 0.0814, Time: 10.29s\n",
            "Epoch: 24, Batch: 20/63, Loss: 0.0522, Time: 10.16s\n",
            "Epoch: 24, Batch: 30/63, Loss: 0.0791, Time: 10.20s\n",
            "Epoch: 24, Batch: 40/63, Loss: 0.0626, Time: 10.39s\n",
            "Epoch: 24, Batch: 50/63, Loss: 0.0647, Time: 10.22s\n",
            "Epoch: 24, Batch: 60/63, Loss: 0.0534, Time: 10.22s\n",
            "Epoch 25/100: Train Loss: 0.0644, Val Loss: inf, Val IoU: 0.8202\n",
            "Epoch: 25, Batch: 0/63, Loss: 0.0428, Time: 2.02s\n",
            "Epoch: 25, Batch: 10/63, Loss: 0.0003, Time: 10.13s\n",
            "Epoch: 25, Batch: 20/63, Loss: 0.0807, Time: 10.35s\n",
            "Epoch: 25, Batch: 30/63, Loss: 0.0877, Time: 10.40s\n",
            "Epoch: 25, Batch: 40/63, Loss: 0.0663, Time: 10.06s\n",
            "Epoch: 25, Batch: 50/63, Loss: 0.0967, Time: 10.27s\n",
            "Epoch: 25, Batch: 60/63, Loss: 0.0674, Time: 10.24s\n",
            "Epoch 26/100: Train Loss: 0.0625, Val Loss: inf, Val IoU: 0.7865\n",
            "Epoch: 26, Batch: 0/63, Loss: 0.0586, Time: 2.24s\n",
            "Epoch: 26, Batch: 10/63, Loss: 0.0486, Time: 10.08s\n",
            "Epoch: 26, Batch: 20/63, Loss: 0.0585, Time: 10.24s\n",
            "Epoch: 26, Batch: 30/63, Loss: 0.0716, Time: 10.16s\n",
            "Epoch: 26, Batch: 40/63, Loss: 0.1013, Time: 10.38s\n",
            "Epoch: 26, Batch: 50/63, Loss: 0.1239, Time: 10.23s\n",
            "Epoch: 26, Batch: 60/63, Loss: 0.0419, Time: 10.17s\n",
            "Epoch 27/100: Train Loss: 0.0628, Val Loss: inf, Val IoU: 0.8173\n",
            "Epoch: 27, Batch: 0/63, Loss: 0.0630, Time: 2.13s\n"
          ]
        }
      ],
      "source": [
        "geoai.train_MaskRCNN_model(\n",
        "    images_dir=f\"{out_folder}/images\",\n",
        "    labels_dir=f\"{out_folder}/labels\",\n",
        "    output_dir=f\"{out_folder}/models\",\n",
        "    num_channels=3,\n",
        "    pretrained=True,\n",
        "    batch_size=4,\n",
        "    num_epochs=100,\n",
        "    learning_rate=0.005,\n",
        "    val_split=0.2,\n",
        ")"
      ]
    },
    {
      "cell_type": "markdown",
      "metadata": {
        "id": "boxYAav_AQhc"
      },
      "source": [
        "## Run inference"
      ]
    },
    {
      "cell_type": "code",
      "execution_count": null,
      "metadata": {
        "id": "h8tJHdoVAQhc"
      },
      "outputs": [],
      "source": [
        "masks_path = \"solar_panels_prediction.tif\"\n",
        "model_path = f\"{out_folder}/models/best_model.pth\""
      ]
    },
    {
      "cell_type": "code",
      "execution_count": null,
      "metadata": {
        "id": "uVsVeD3uAQhc"
      },
      "outputs": [],
      "source": [
        "geoai.object_detection(\n",
        "    test_raster_path,\n",
        "    masks_path,\n",
        "    model_path,\n",
        "    window_size=512,\n",
        "    overlap=256,\n",
        "    confidence_threshold=0.5,\n",
        "    batch_size=4,\n",
        "    num_channels=3,\n",
        ")"
      ]
    },
    {
      "cell_type": "markdown",
      "metadata": {
        "id": "giMLsHZAAQhc"
      },
      "source": [
        "## Vectorize masks"
      ]
    },
    {
      "cell_type": "code",
      "execution_count": null,
      "metadata": {
        "id": "Bl29uxhtAQhc"
      },
      "outputs": [],
      "source": [
        "output_path = \"solar_panels_prediction.geojson\"\n",
        "gdf = geoai.orthogonalize(masks_path, output_path, epsilon=2)"
      ]
    },
    {
      "cell_type": "markdown",
      "metadata": {
        "id": "vypDsxr5AQhc"
      },
      "source": [
        "## Visualize results"
      ]
    },
    {
      "cell_type": "code",
      "execution_count": null,
      "metadata": {
        "id": "XcNKaxH-AQhc"
      },
      "outputs": [],
      "source": [
        "geoai.view_vector_interactive(output_path, tiles=test_raster_url)"
      ]
    },
    {
      "cell_type": "code",
      "execution_count": null,
      "metadata": {
        "id": "SxTfeUtyAQhc"
      },
      "outputs": [],
      "source": [
        "geoai.create_split_map(\n",
        "    left_layer=output_path,\n",
        "    right_layer=test_raster_url,\n",
        "    left_args={\"style\": {\"color\": \"red\", \"fillOpacity\": 0.2}},\n",
        "    basemap=test_raster_url,\n",
        ")"
      ]
    },
    {
      "cell_type": "markdown",
      "metadata": {
        "id": "WV_PYFy1AQhd"
      },
      "source": [
        "![image](https://github.com/user-attachments/assets/69d20aec-991f-4681-b31e-fabcd7e21b91)"
      ]
    }
  ],
  "metadata": {
    "kernelspec": {
      "display_name": "Python 3",
      "name": "python3"
    },
    "language_info": {
      "codemirror_mode": {
        "name": "ipython",
        "version": 3
      },
      "file_extension": ".py",
      "mimetype": "text/x-python",
      "name": "python",
      "nbconvert_exporter": "python",
      "pygments_lexer": "ipython3",
      "version": "3.12.9"
    },
    "colab": {
      "provenance": [],
      "gpuType": "T4"
    },
    "accelerator": "GPU"
  },
  "nbformat": 4,
  "nbformat_minor": 0
}